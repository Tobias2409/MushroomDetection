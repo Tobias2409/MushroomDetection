{
  "nbformat": 4,
  "nbformat_minor": 0,
  "metadata": {
    "colab": {
      "name": "MushroomDetection.ipynb",
      "provenance": [],
      "collapsed_sections": []
    },
    "kernelspec": {
      "name": "python3",
      "display_name": "Python 3"
    },
    "language_info": {
      "name": "python"
    },
    "accelerator": "GPU"
  },
  "cells": [
    {
      "cell_type": "markdown",
      "source": [
        "#Setup Project"
      ],
      "metadata": {
        "id": "C_3p_2LcCRXq"
      }
    },
    {
      "cell_type": "markdown",
      "source": [
        "##Goole Drive"
      ],
      "metadata": {
        "id": "cDhwY0haCixw"
      }
    },
    {
      "cell_type": "code",
      "source": [
        "from google.colab import drive\n",
        "drive.mount('/content/drive')"
      ],
      "metadata": {
        "colab": {
          "base_uri": "https://localhost:8080/"
        },
        "id": "RuAt3KRHAeYv",
        "outputId": "91f9e583-31f7-4672-aa4f-1d39fd2c68b6"
      },
      "execution_count": null,
      "outputs": [
        {
          "output_type": "stream",
          "name": "stdout",
          "text": [
            "Mounted at /content/drive\n"
          ]
        }
      ]
    },
    {
      "cell_type": "markdown",
      "source": [
        "##Get Datasets"
      ],
      "metadata": {
        "id": "aigMSpnzBpj-"
      }
    },
    {
      "cell_type": "markdown",
      "source": [
        "###Mushroom 50"
      ],
      "metadata": {
        "id": "AeaVU-BCzHO0"
      }
    },
    {
      "cell_type": "code",
      "source": [
        "!wget http://88.198.111.133/Mushrooms_50.zip\n",
        "!7z x Mushrooms_50.zip"
      ],
      "metadata": {
        "colab": {
          "base_uri": "https://localhost:8080/"
        },
        "id": "65sN8apzNb1h",
        "outputId": "3aa17ff8-ac54-4658-ffc5-8c4bafc0a786"
      },
      "execution_count": null,
      "outputs": [
        {
          "output_type": "stream",
          "name": "stdout",
          "text": [
            "--2022-01-25 19:02:16--  http://88.198.111.133/Mushrooms_50.zip\n",
            "Connecting to 88.198.111.133:80... connected.\n",
            "HTTP request sent, awaiting response... 200 OK\n",
            "Length: 69616394 (66M) [application/zip]\n",
            "Saving to: ‘Mushrooms_50.zip’\n",
            "\n",
            "Mushrooms_50.zip    100%[===================>]  66.39M   183MB/s    in 0.4s    \n",
            "\n",
            "2022-01-25 19:02:16 (183 MB/s) - ‘Mushrooms_50.zip’ saved [69616394/69616394]\n",
            "\n"
          ]
        }
      ]
    },
    {
      "cell_type": "markdown",
      "source": [
        "###Mushroom"
      ],
      "metadata": {
        "id": "AHQTSYymzR5K"
      }
    },
    {
      "cell_type": "code",
      "source": [
        "!wget http://88.198.111.133/Mushrooms.zip\n",
        "!7z x Mushrooms_50.zip"
      ],
      "metadata": {
        "id": "Rt3yIsQIzceJ"
      },
      "execution_count": null,
      "outputs": []
    },
    {
      "cell_type": "markdown",
      "source": [
        "#Code"
      ],
      "metadata": {
        "id": "YoWZUijC3r0p"
      }
    },
    {
      "cell_type": "code",
      "source": [
        "!pip install -Uqq fastbook"
      ],
      "metadata": {
        "colab": {
          "base_uri": "https://localhost:8080/"
        },
        "id": "ZM3J0luaBGcM",
        "outputId": "290fc4e8-9dea-4fe1-f35d-14e6f3e14235"
      },
      "execution_count": null,
      "outputs": [
        {
          "output_type": "stream",
          "name": "stdout",
          "text": [
            "\u001b[K     |████████████████████████████████| 720 kB 15.0 MB/s \n",
            "\u001b[K     |████████████████████████████████| 1.2 MB 65.3 MB/s \n",
            "\u001b[K     |████████████████████████████████| 46 kB 5.9 MB/s \n",
            "\u001b[K     |████████████████████████████████| 189 kB 79.4 MB/s \n",
            "\u001b[K     |████████████████████████████████| 56 kB 6.6 MB/s \n",
            "\u001b[K     |████████████████████████████████| 51 kB 455 kB/s \n",
            "\u001b[?25h"
          ]
        }
      ]
    },
    {
      "cell_type": "code",
      "source": [
        "#hide\n",
        "from fastbook import *"
      ],
      "metadata": {
        "id": "i0nnVLwGA_H4"
      },
      "execution_count": null,
      "outputs": []
    },
    {
      "cell_type": "code",
      "source": [
        "#id first_training\n",
        "#caption Results from the first training\n",
        "# CLICK ME\n",
        "from fastai.vision.all import *\n",
        "\n",
        "path = 'Mushrooms/'\n",
        "\n",
        "def getLabelFromFile(name):\n",
        "  return name.split(\"_\")[0]\n",
        "\n",
        "dls = ImageDataLoaders.from_name_func(\n",
        "  path, get_image_files(path), valid_pct=0.2, seed=42,\n",
        "  label_func=getLabelFromFile, item_tfms=Resize(224))\n",
        "\n",
        "#Path(path).ls()\n",
        "\n",
        "learn = cnn_learner(dls, resnet34, metrics=error_rate)\n",
        "learn.fine_tune(10)"
      ],
      "metadata": {
        "colab": {
          "base_uri": "https://localhost:8080/",
          "height": 422
        },
        "id": "64PCdwRKBYe1",
        "outputId": "28a673d1-21ca-43d2-f03c-12607a5cae0e"
      },
      "execution_count": null,
      "outputs": [
        {
          "output_type": "display_data",
          "data": {
            "text/html": [
              "<table border=\"1\" class=\"dataframe\">\n",
              "  <thead>\n",
              "    <tr style=\"text-align: left;\">\n",
              "      <th>epoch</th>\n",
              "      <th>train_loss</th>\n",
              "      <th>valid_loss</th>\n",
              "      <th>error_rate</th>\n",
              "      <th>time</th>\n",
              "    </tr>\n",
              "  </thead>\n",
              "  <tbody>\n",
              "    <tr>\n",
              "      <td>0</td>\n",
              "      <td>3.465377</td>\n",
              "      <td>2.239498</td>\n",
              "      <td>0.707865</td>\n",
              "      <td>00:05</td>\n",
              "    </tr>\n",
              "  </tbody>\n",
              "</table>"
            ],
            "text/plain": [
              "<IPython.core.display.HTML object>"
            ]
          },
          "metadata": {}
        },
        {
          "output_type": "display_data",
          "data": {
            "text/html": [
              "<table border=\"1\" class=\"dataframe\">\n",
              "  <thead>\n",
              "    <tr style=\"text-align: left;\">\n",
              "      <th>epoch</th>\n",
              "      <th>train_loss</th>\n",
              "      <th>valid_loss</th>\n",
              "      <th>error_rate</th>\n",
              "      <th>time</th>\n",
              "    </tr>\n",
              "  </thead>\n",
              "  <tbody>\n",
              "    <tr>\n",
              "      <td>0</td>\n",
              "      <td>1.958076</td>\n",
              "      <td>1.514379</td>\n",
              "      <td>0.494382</td>\n",
              "      <td>00:06</td>\n",
              "    </tr>\n",
              "    <tr>\n",
              "      <td>1</td>\n",
              "      <td>1.713526</td>\n",
              "      <td>1.040722</td>\n",
              "      <td>0.370787</td>\n",
              "      <td>00:06</td>\n",
              "    </tr>\n",
              "    <tr>\n",
              "      <td>2</td>\n",
              "      <td>1.365494</td>\n",
              "      <td>0.776287</td>\n",
              "      <td>0.235955</td>\n",
              "      <td>00:06</td>\n",
              "    </tr>\n",
              "    <tr>\n",
              "      <td>3</td>\n",
              "      <td>1.082251</td>\n",
              "      <td>0.675703</td>\n",
              "      <td>0.202247</td>\n",
              "      <td>00:06</td>\n",
              "    </tr>\n",
              "    <tr>\n",
              "      <td>4</td>\n",
              "      <td>0.871043</td>\n",
              "      <td>0.627405</td>\n",
              "      <td>0.191011</td>\n",
              "      <td>00:06</td>\n",
              "    </tr>\n",
              "    <tr>\n",
              "      <td>5</td>\n",
              "      <td>0.713768</td>\n",
              "      <td>0.600737</td>\n",
              "      <td>0.191011</td>\n",
              "      <td>00:06</td>\n",
              "    </tr>\n",
              "    <tr>\n",
              "      <td>6</td>\n",
              "      <td>0.597349</td>\n",
              "      <td>0.544728</td>\n",
              "      <td>0.168539</td>\n",
              "      <td>00:06</td>\n",
              "    </tr>\n",
              "    <tr>\n",
              "      <td>7</td>\n",
              "      <td>0.510970</td>\n",
              "      <td>0.530208</td>\n",
              "      <td>0.157303</td>\n",
              "      <td>00:06</td>\n",
              "    </tr>\n",
              "    <tr>\n",
              "      <td>8</td>\n",
              "      <td>0.437266</td>\n",
              "      <td>0.513868</td>\n",
              "      <td>0.157303</td>\n",
              "      <td>00:06</td>\n",
              "    </tr>\n",
              "    <tr>\n",
              "      <td>9</td>\n",
              "      <td>0.382054</td>\n",
              "      <td>0.508533</td>\n",
              "      <td>0.157303</td>\n",
              "      <td>00:06</td>\n",
              "    </tr>\n",
              "  </tbody>\n",
              "</table>"
            ],
            "text/plain": [
              "<IPython.core.display.HTML object>"
            ]
          },
          "metadata": {}
        }
      ]
    },
    {
      "cell_type": "code",
      "source": [
        "learn.predict('Mushrooms/Agaricus_1.jpg')"
      ],
      "metadata": {
        "colab": {
          "base_uri": "https://localhost:8080/",
          "height": 71
        },
        "id": "iF8hIj_-ZqOF",
        "outputId": "1f6ac520-44da-4ee5-e9d1-b54558c941a4"
      },
      "execution_count": null,
      "outputs": [
        {
          "output_type": "display_data",
          "data": {
            "text/html": [
              ""
            ],
            "text/plain": [
              "<IPython.core.display.HTML object>"
            ]
          },
          "metadata": {}
        },
        {
          "output_type": "execute_result",
          "data": {
            "text/plain": [
              "('Agaricus',\n",
              " TensorBase(0),\n",
              " TensorBase([0.7770, 0.0132, 0.0017, 0.0233, 0.0074, 0.0094, 0.0086, 0.1570, 0.0023]))"
            ]
          },
          "metadata": {},
          "execution_count": 13
        }
      ]
    }
  ]
}