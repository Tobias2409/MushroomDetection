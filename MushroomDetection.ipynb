{
  "nbformat": 4,
  "nbformat_minor": 0,
  "metadata": {
    "colab": {
      "name": "MushroomDetection.ipynb",
      "provenance": [],
      "collapsed_sections": [
        "C_3p_2LcCRXq"
      ],
      "toc_visible": true
    },
    "kernelspec": {
      "name": "python3",
      "display_name": "Python 3"
    },
    "language_info": {
      "name": "python"
    }
  },
  "cells": [
    {
      "cell_type": "markdown",
      "source": [
        "#Setup Project"
      ],
      "metadata": {
        "id": "C_3p_2LcCRXq"
      }
    },
    {
      "cell_type": "markdown",
      "source": [
        "##Goole Drive"
      ],
      "metadata": {
        "id": "cDhwY0haCixw"
      }
    },
    {
      "cell_type": "code",
      "source": [
        "from google.colab import drive\n",
        "drive.mount('/content/drive')"
      ],
      "metadata": {
        "colab": {
          "base_uri": "https://localhost:8080/"
        },
        "id": "RuAt3KRHAeYv",
        "outputId": "91f9e583-31f7-4672-aa4f-1d39fd2c68b6"
      },
      "execution_count": 2,
      "outputs": [
        {
          "output_type": "stream",
          "name": "stdout",
          "text": [
            "Mounted at /content/drive\n"
          ]
        }
      ]
    }
  ]
}